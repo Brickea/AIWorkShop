{
 "cells": [
  {
   "cell_type": "markdown",
   "metadata": {},
   "source": [
    "<div style=\"text-align: right\">AI workshop at Northeastern with EM Lyon Business School</div>\n",
    "<div style=\"text-align: right\">Zixiao Wang , 24 November 2019,</div>"
   ]
  },
  {
   "cell_type": "markdown",
   "metadata": {},
   "source": [
    "# Notebook Draft"
   ]
  },
  {
   "cell_type": "code",
   "execution_count": 2,
   "metadata": {},
   "outputs": [],
   "source": [
    "import numpy as np\n",
    "import pandas as pd\n",
    "import matplotlib.pyplot as plt\n",
    "import random\n",
    "import tensorflow as tf\n",
    "%matplotlib inline"
   ]
  },
  {
   "cell_type": "markdown",
   "metadata": {},
   "source": [
    "## Load Stock Data"
   ]
  },
  {
   "cell_type": "code",
   "execution_count": 45,
   "metadata": {},
   "outputs": [],
   "source": [
    "dataset = pd.read_csv(\"https://www.alphavantage.co/query?function=TIME_SERIES_INTRADAY&outputsize=full&symbol=AAPL&interval=1min&apikey=G6JDX3PTNITW8EW1&datatype=csv\")"
   ]
  },
  {
   "cell_type": "code",
   "execution_count": 46,
   "metadata": {},
   "outputs": [
    {
     "data": {
      "text/html": [
       "<div>\n",
       "<style scoped>\n",
       "    .dataframe tbody tr th:only-of-type {\n",
       "        vertical-align: middle;\n",
       "    }\n",
       "\n",
       "    .dataframe tbody tr th {\n",
       "        vertical-align: top;\n",
       "    }\n",
       "\n",
       "    .dataframe thead th {\n",
       "        text-align: right;\n",
       "    }\n",
       "</style>\n",
       "<table border=\"1\" class=\"dataframe\">\n",
       "  <thead>\n",
       "    <tr style=\"text-align: right;\">\n",
       "      <th></th>\n",
       "      <th>timestamp</th>\n",
       "      <th>open</th>\n",
       "      <th>high</th>\n",
       "      <th>low</th>\n",
       "      <th>close</th>\n",
       "      <th>volume</th>\n",
       "    </tr>\n",
       "  </thead>\n",
       "  <tbody>\n",
       "    <tr>\n",
       "      <td>0</td>\n",
       "      <td>2019-11-22 16:00:00</td>\n",
       "      <td>261.850</td>\n",
       "      <td>262.2400</td>\n",
       "      <td>261.72</td>\n",
       "      <td>261.8700</td>\n",
       "      <td>538382</td>\n",
       "    </tr>\n",
       "    <tr>\n",
       "      <td>1</td>\n",
       "      <td>2019-11-22 15:59:00</td>\n",
       "      <td>261.750</td>\n",
       "      <td>261.8500</td>\n",
       "      <td>261.69</td>\n",
       "      <td>261.8500</td>\n",
       "      <td>135916</td>\n",
       "    </tr>\n",
       "    <tr>\n",
       "      <td>2</td>\n",
       "      <td>2019-11-22 15:58:00</td>\n",
       "      <td>261.630</td>\n",
       "      <td>261.7900</td>\n",
       "      <td>261.54</td>\n",
       "      <td>261.7600</td>\n",
       "      <td>113699</td>\n",
       "    </tr>\n",
       "    <tr>\n",
       "      <td>3</td>\n",
       "      <td>2019-11-22 15:57:00</td>\n",
       "      <td>261.550</td>\n",
       "      <td>261.7500</td>\n",
       "      <td>261.55</td>\n",
       "      <td>261.6300</td>\n",
       "      <td>84277</td>\n",
       "    </tr>\n",
       "    <tr>\n",
       "      <td>4</td>\n",
       "      <td>2019-11-22 15:56:00</td>\n",
       "      <td>261.350</td>\n",
       "      <td>261.6000</td>\n",
       "      <td>261.34</td>\n",
       "      <td>261.5650</td>\n",
       "      <td>99721</td>\n",
       "    </tr>\n",
       "    <tr>\n",
       "      <td>5</td>\n",
       "      <td>2019-11-22 15:55:00</td>\n",
       "      <td>261.110</td>\n",
       "      <td>261.3500</td>\n",
       "      <td>261.10</td>\n",
       "      <td>261.3500</td>\n",
       "      <td>79798</td>\n",
       "    </tr>\n",
       "    <tr>\n",
       "      <td>6</td>\n",
       "      <td>2019-11-22 15:54:00</td>\n",
       "      <td>261.012</td>\n",
       "      <td>261.1500</td>\n",
       "      <td>261.01</td>\n",
       "      <td>261.1200</td>\n",
       "      <td>57699</td>\n",
       "    </tr>\n",
       "    <tr>\n",
       "      <td>7</td>\n",
       "      <td>2019-11-22 15:53:00</td>\n",
       "      <td>260.890</td>\n",
       "      <td>261.0300</td>\n",
       "      <td>260.85</td>\n",
       "      <td>261.0199</td>\n",
       "      <td>71229</td>\n",
       "    </tr>\n",
       "    <tr>\n",
       "      <td>8</td>\n",
       "      <td>2019-11-22 15:52:00</td>\n",
       "      <td>261.030</td>\n",
       "      <td>261.0500</td>\n",
       "      <td>260.84</td>\n",
       "      <td>260.8800</td>\n",
       "      <td>89980</td>\n",
       "    </tr>\n",
       "    <tr>\n",
       "      <td>9</td>\n",
       "      <td>2019-11-22 15:51:00</td>\n",
       "      <td>261.100</td>\n",
       "      <td>261.1339</td>\n",
       "      <td>260.94</td>\n",
       "      <td>261.0300</td>\n",
       "      <td>193347</td>\n",
       "    </tr>\n",
       "  </tbody>\n",
       "</table>\n",
       "</div>"
      ],
      "text/plain": [
       "             timestamp     open      high     low     close  volume\n",
       "0  2019-11-22 16:00:00  261.850  262.2400  261.72  261.8700  538382\n",
       "1  2019-11-22 15:59:00  261.750  261.8500  261.69  261.8500  135916\n",
       "2  2019-11-22 15:58:00  261.630  261.7900  261.54  261.7600  113699\n",
       "3  2019-11-22 15:57:00  261.550  261.7500  261.55  261.6300   84277\n",
       "4  2019-11-22 15:56:00  261.350  261.6000  261.34  261.5650   99721\n",
       "5  2019-11-22 15:55:00  261.110  261.3500  261.10  261.3500   79798\n",
       "6  2019-11-22 15:54:00  261.012  261.1500  261.01  261.1200   57699\n",
       "7  2019-11-22 15:53:00  260.890  261.0300  260.85  261.0199   71229\n",
       "8  2019-11-22 15:52:00  261.030  261.0500  260.84  260.8800   89980\n",
       "9  2019-11-22 15:51:00  261.100  261.1339  260.94  261.0300  193347"
      ]
     },
     "execution_count": 46,
     "metadata": {},
     "output_type": "execute_result"
    }
   ],
   "source": [
    "dataset.head(10)"
   ]
  },
  {
   "cell_type": "code",
   "execution_count": 47,
   "metadata": {},
   "outputs": [
    {
     "name": "stdout",
     "output_type": "stream",
     "text": [
      "<class 'pandas.core.frame.DataFrame'>\n",
      "RangeIndex: 1932 entries, 0 to 1931\n",
      "Data columns (total 6 columns):\n",
      "timestamp    1932 non-null object\n",
      "open         1932 non-null float64\n",
      "high         1932 non-null float64\n",
      "low          1932 non-null float64\n",
      "close        1932 non-null float64\n",
      "volume       1932 non-null int64\n",
      "dtypes: float64(4), int64(1), object(1)\n",
      "memory usage: 90.7+ KB\n"
     ]
    }
   ],
   "source": [
    "dataset.info()"
   ]
  },
  {
   "cell_type": "code",
   "execution_count": 48,
   "metadata": {},
   "outputs": [
    {
     "data": {
      "text/html": [
       "<div>\n",
       "<style scoped>\n",
       "    .dataframe tbody tr th:only-of-type {\n",
       "        vertical-align: middle;\n",
       "    }\n",
       "\n",
       "    .dataframe tbody tr th {\n",
       "        vertical-align: top;\n",
       "    }\n",
       "\n",
       "    .dataframe thead th {\n",
       "        text-align: right;\n",
       "    }\n",
       "</style>\n",
       "<table border=\"1\" class=\"dataframe\">\n",
       "  <thead>\n",
       "    <tr style=\"text-align: right;\">\n",
       "      <th></th>\n",
       "      <th>timestamp</th>\n",
       "      <th>close</th>\n",
       "    </tr>\n",
       "  </thead>\n",
       "  <tbody>\n",
       "    <tr>\n",
       "      <td>0</td>\n",
       "      <td>2019-11-22 16:00:00</td>\n",
       "      <td>261.8700</td>\n",
       "    </tr>\n",
       "    <tr>\n",
       "      <td>1</td>\n",
       "      <td>2019-11-22 15:59:00</td>\n",
       "      <td>261.8500</td>\n",
       "    </tr>\n",
       "    <tr>\n",
       "      <td>2</td>\n",
       "      <td>2019-11-22 15:58:00</td>\n",
       "      <td>261.7600</td>\n",
       "    </tr>\n",
       "    <tr>\n",
       "      <td>3</td>\n",
       "      <td>2019-11-22 15:57:00</td>\n",
       "      <td>261.6300</td>\n",
       "    </tr>\n",
       "    <tr>\n",
       "      <td>4</td>\n",
       "      <td>2019-11-22 15:56:00</td>\n",
       "      <td>261.5650</td>\n",
       "    </tr>\n",
       "    <tr>\n",
       "      <td>5</td>\n",
       "      <td>2019-11-22 15:55:00</td>\n",
       "      <td>261.3500</td>\n",
       "    </tr>\n",
       "    <tr>\n",
       "      <td>6</td>\n",
       "      <td>2019-11-22 15:54:00</td>\n",
       "      <td>261.1200</td>\n",
       "    </tr>\n",
       "    <tr>\n",
       "      <td>7</td>\n",
       "      <td>2019-11-22 15:53:00</td>\n",
       "      <td>261.0199</td>\n",
       "    </tr>\n",
       "    <tr>\n",
       "      <td>8</td>\n",
       "      <td>2019-11-22 15:52:00</td>\n",
       "      <td>260.8800</td>\n",
       "    </tr>\n",
       "    <tr>\n",
       "      <td>9</td>\n",
       "      <td>2019-11-22 15:51:00</td>\n",
       "      <td>261.0300</td>\n",
       "    </tr>\n",
       "  </tbody>\n",
       "</table>\n",
       "</div>"
      ],
      "text/plain": [
       "             timestamp     close\n",
       "0  2019-11-22 16:00:00  261.8700\n",
       "1  2019-11-22 15:59:00  261.8500\n",
       "2  2019-11-22 15:58:00  261.7600\n",
       "3  2019-11-22 15:57:00  261.6300\n",
       "4  2019-11-22 15:56:00  261.5650\n",
       "5  2019-11-22 15:55:00  261.3500\n",
       "6  2019-11-22 15:54:00  261.1200\n",
       "7  2019-11-22 15:53:00  261.0199\n",
       "8  2019-11-22 15:52:00  260.8800\n",
       "9  2019-11-22 15:51:00  261.0300"
      ]
     },
     "execution_count": 48,
     "metadata": {},
     "output_type": "execute_result"
    }
   ],
   "source": [
    "time_close = dataset.iloc[:,[0,4]]\n",
    "# dataset[\"timestamp\",\"close\"]\n",
    "time_close.head(10)"
   ]
  },
  {
   "cell_type": "code",
   "execution_count": 61,
   "metadata": {},
   "outputs": [
    {
     "data": {
      "text/html": [
       "<div>\n",
       "<style scoped>\n",
       "    .dataframe tbody tr th:only-of-type {\n",
       "        vertical-align: middle;\n",
       "    }\n",
       "\n",
       "    .dataframe tbody tr th {\n",
       "        vertical-align: top;\n",
       "    }\n",
       "\n",
       "    .dataframe thead th {\n",
       "        text-align: right;\n",
       "    }\n",
       "</style>\n",
       "<table border=\"1\" class=\"dataframe\">\n",
       "  <thead>\n",
       "    <tr style=\"text-align: right;\">\n",
       "      <th></th>\n",
       "      <th>timestamp</th>\n",
       "      <th>close</th>\n",
       "    </tr>\n",
       "  </thead>\n",
       "  <tbody>\n",
       "    <tr>\n",
       "      <td>1922</td>\n",
       "      <td>2019-11-18 09:40:00</td>\n",
       "      <td>265.1500</td>\n",
       "    </tr>\n",
       "    <tr>\n",
       "      <td>1923</td>\n",
       "      <td>2019-11-18 09:39:00</td>\n",
       "      <td>265.2200</td>\n",
       "    </tr>\n",
       "    <tr>\n",
       "      <td>1924</td>\n",
       "      <td>2019-11-18 09:38:00</td>\n",
       "      <td>264.8600</td>\n",
       "    </tr>\n",
       "    <tr>\n",
       "      <td>1925</td>\n",
       "      <td>2019-11-18 09:37:00</td>\n",
       "      <td>264.9800</td>\n",
       "    </tr>\n",
       "    <tr>\n",
       "      <td>1926</td>\n",
       "      <td>2019-11-18 09:36:00</td>\n",
       "      <td>265.2600</td>\n",
       "    </tr>\n",
       "    <tr>\n",
       "      <td>1927</td>\n",
       "      <td>2019-11-18 09:35:00</td>\n",
       "      <td>265.0200</td>\n",
       "    </tr>\n",
       "    <tr>\n",
       "      <td>1928</td>\n",
       "      <td>2019-11-18 09:34:00</td>\n",
       "      <td>265.2500</td>\n",
       "    </tr>\n",
       "    <tr>\n",
       "      <td>1929</td>\n",
       "      <td>2019-11-18 09:33:00</td>\n",
       "      <td>265.3600</td>\n",
       "    </tr>\n",
       "    <tr>\n",
       "      <td>1930</td>\n",
       "      <td>2019-11-18 09:32:00</td>\n",
       "      <td>265.6000</td>\n",
       "    </tr>\n",
       "    <tr>\n",
       "      <td>1931</td>\n",
       "      <td>2019-11-18 09:31:00</td>\n",
       "      <td>265.5676</td>\n",
       "    </tr>\n",
       "  </tbody>\n",
       "</table>\n",
       "</div>"
      ],
      "text/plain": [
       "                timestamp     close\n",
       "1922  2019-11-18 09:40:00  265.1500\n",
       "1923  2019-11-18 09:39:00  265.2200\n",
       "1924  2019-11-18 09:38:00  264.8600\n",
       "1925  2019-11-18 09:37:00  264.9800\n",
       "1926  2019-11-18 09:36:00  265.2600\n",
       "1927  2019-11-18 09:35:00  265.0200\n",
       "1928  2019-11-18 09:34:00  265.2500\n",
       "1929  2019-11-18 09:33:00  265.3600\n",
       "1930  2019-11-18 09:32:00  265.6000\n",
       "1931  2019-11-18 09:31:00  265.5676"
      ]
     },
     "execution_count": 61,
     "metadata": {},
     "output_type": "execute_result"
    }
   ],
   "source": [
    "time_close.tail(10)"
   ]
  },
  {
   "cell_type": "code",
   "execution_count": 60,
   "metadata": {
    "scrolled": true
   },
   "outputs": [
    {
     "data": {
      "text/plain": [
       "<matplotlib.axes._subplots.AxesSubplot at 0x1be8673a898>"
      ]
     },
     "execution_count": 60,
     "metadata": {},
     "output_type": "execute_result"
    },
    {
     "data": {
      "image/png": "[encoded data removed]",
      "text/plain": [
       "<Figure size 432x288 with 1 Axes>"
      ]
     },
     "metadata": {
      "needs_background": "light"
     },
     "output_type": "display_data"
    }
   ],
   "source": [
    "time_close.plot()\n",
    "# plt.plot_date(time_close.iloc[:,[0]],time_close.iloc[:,[1]], '-')"
   ]
  },
  {
   "cell_type": "markdown",
   "metadata": {},
   "source": [
    "## Basic Q-Learning Model"
   ]
  },
  {
   "cell_type": "code",
   "execution_count": null,
   "metadata": {},
   "outputs": [],
   "source": [
    "%%time\n",
    "#Initialize table with all zeros\n",
    "Q = np.zeros([env.observation_space.n,env.action_space.n])\n",
    "# Set learning parameters\n",
    "lr = .8\n",
    "y = .95\n",
    "num_episodes = 4000\n",
    "#create lists to contain total rewards and steps per episode\n",
    "rList = []\n",
    "for i in range(num_episodes):\n",
    "    #Reset environment and get first new observation\n",
    "    s = env.reset()\n",
    "    totalReward = 0\n",
    "    d = False\n",
    "    j = 0\n",
    "    #The Q-Table learning algorithm\n",
    "    while j < 99:\n",
    "        j+=1\n",
    "        # Pi function: Choose an action by greedily (with noise) picking from Q table\n",
    "        a = np.argmax(Q[s,:] + np.random.randn(1,env.action_space.n)*(1./(i+1)))\n",
    "        #Get new state and reward from environment\n",
    "        s1,r,d,_ = env.step(a)\n",
    "        # Value function Bellman equation: Update Q-Table with new knowledge\n",
    "        # Q(s,a) = r + γ(max(Q(s’,a’))\n",
    "        Q[s,a] = Q[s,a] + lr*(r + y*np.max(Q[s1,:]) - Q[s,a])\n",
    "        totalReward += r\n",
    "        s = s1\n",
    "        if d == True:\n",
    "            break\n",
    "    rList.append(totalReward)"
   ]
  }
 ],
 "metadata": {
  "kernelspec": {
   "display_name": "Python 3",
   "language": "python",
   "name": "python3"
  },
  "language_info": {
   "codemirror_mode": {
    "name": "ipython",
    "version": 3
   },
   "file_extension": ".py",
   "mimetype": "text/x-python",
   "name": "python",
   "nbconvert_exporter": "python",
   "pygments_lexer": "ipython3",
   "version": "3.7.3"
  }
 },
 "nbformat": 4,
 "nbformat_minor": 2
}
